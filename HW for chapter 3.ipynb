{
 "cells": [
  {
   "cell_type": "code",
   "execution_count": 24,
   "metadata": {},
   "outputs": [
    {
     "name": "stdout",
     "output_type": "stream",
     "text": [
      " the process took 1.406 seconds\n"
     ]
    }
   ],
   "source": [
    "import time\n",
    "\n",
    "a = 0  # will be used in my loop\n",
    "\n",
    "t1 = time.process_time() # get the current time\n",
    "\n",
    "for i in range(0,10000000):  # a statement to test\n",
    "    a = a  + 1\n",
    "    \n",
    "elapsed = time.process_time() - t1 \n",
    "\n",
    "print(' the process took {0:.3f} seconds'.format(elapsed))\n",
    "# alternative, using timeit"
   ]
  },
  {
   "cell_type": "code",
   "execution_count": 25,
   "metadata": {},
   "outputs": [
    {
     "data": {
      "text/plain": [
       "7.56094633500004"
      ]
     },
     "execution_count": 25,
     "metadata": {},
     "output_type": "execute_result"
    }
   ],
   "source": [
    "import timeit \n",
    "\n",
    "# note timeit runs the statement 1,000,000 times by default, so \n",
    "# I use a shorter loop\n",
    "\n",
    "stmt = \"\"\"\\\n",
    "for i in range(0,100):  # a statement to test\n",
    "    a = a  + 1\n",
    "\"\"\"\n",
    "\n",
    "timeit.timeit(stmt, setup='a = 0')"
   ]
  },
  {
   "cell_type": "markdown",
   "metadata": {},
   "source": [
    "### 1A: Compare tuples and list creation: is one faster than the other?"
   ]
  },
  {
   "cell_type": "code",
   "execution_count": 26,
   "metadata": {},
   "outputs": [
    {
     "name": "stdout",
     "output_type": "stream",
     "text": [
      " the process took 0.281 seconds\n"
     ]
    }
   ],
   "source": [
    "import time\n",
    "t1 = time.process_time() # get the current time\n",
    "tup1 = tuple(range(0,10000000))\n",
    "elapsed = time.process_time() - t1\n",
    "print(' the process took {0:.3f} seconds'.format(elapsed))\n",
    "# alternative, using timeit"
   ]
  },
  {
   "cell_type": "code",
   "execution_count": 27,
   "metadata": {},
   "outputs": [
    {
     "name": "stdout",
     "output_type": "stream",
     "text": [
      " the process took 0.328 seconds\n"
     ]
    }
   ],
   "source": [
    "import time\n",
    "t1 = time.process_time() # get the current time\n",
    "list1 = list(range(0,10000000))\n",
    "elapsed = time.process_time() - t1\n",
    "print(' the process took {0:.3f} seconds'.format(elapsed))\n",
    "# alternative, using timeit"
   ]
  },
  {
   "cell_type": "markdown",
   "metadata": {},
   "source": [
    "### 1B: Compare tuple and list concatenation: is one faster?"
   ]
  },
  {
   "cell_type": "code",
   "execution_count": 36,
   "metadata": {},
   "outputs": [],
   "source": [
    "tupa = tuple(range(0,10000000))\n",
    "tupb = tuple(range(20000000,30000000))\n",
    "lista = list(range(0,10000000))\n",
    "listb = list(range(20000000,30000000))"
   ]
  },
  {
   "cell_type": "code",
   "execution_count": 37,
   "metadata": {},
   "outputs": [
    {
     "name": "stdout",
     "output_type": "stream",
     "text": [
      " the process took 2.203 seconds\n"
     ]
    }
   ],
   "source": [
    "import time\n",
    "t1 = time.process_time() # get the current time\n",
    "tup2 = tupa + tupb\n",
    "elapsed = time.process_time() - t1\n",
    "print(' the process took {0:.3f} seconds'.format(elapsed))"
   ]
  },
  {
   "cell_type": "code",
   "execution_count": 38,
   "metadata": {},
   "outputs": [
    {
     "name": "stdout",
     "output_type": "stream",
     "text": [
      " the process took 4.312 seconds\n"
     ]
    }
   ],
   "source": [
    "import time\n",
    "t1 = time.process_time() # get the current time\n",
    "list2 = lista + listb\n",
    "elapsed = time.process_time() - t1\n",
    "print(' the process took {0:.3f} seconds'.format(elapsed))"
   ]
  },
  {
   "cell_type": "code",
   "execution_count": 39,
   "metadata": {},
   "outputs": [
    {
     "name": "stdout",
     "output_type": "stream",
     "text": [
      " the process took 4.484 seconds\n"
     ]
    }
   ],
   "source": [
    "import time\n",
    "t1 = time.process_time() # get the current time\n",
    "tup2 = tuple(range(0,10000000))+tuple(range(20000000,30000000))\n",
    "elapsed = time.process_time() - t1\n",
    "print(' the process took {0:.3f} seconds'.format(elapsed))"
   ]
  },
  {
   "cell_type": "code",
   "execution_count": 40,
   "metadata": {},
   "outputs": [
    {
     "name": "stdout",
     "output_type": "stream",
     "text": [
      " the process took 2.906 seconds\n"
     ]
    }
   ],
   "source": [
    "import time\n",
    "t1 = time.process_time() # get the current time\n",
    "list2 = list(range(0,10000000))+list(range(20000000,30000000))\n",
    "elapsed = time.process_time() - t1\n",
    "print(' the process took {0:.3f} seconds'.format(elapsed))"
   ]
  },
  {
   "cell_type": "markdown",
   "metadata": {},
   "source": [
    "### 1C: Compare two ways of placing a new value in a sorted list: either, by appending it to the end and then sorting, or by using insort."
   ]
  },
  {
   "cell_type": "code",
   "execution_count": 22,
   "metadata": {},
   "outputs": [
    {
     "name": "stdout",
     "output_type": "stream",
     "text": [
      " the process took 0.453 seconds\n"
     ]
    }
   ],
   "source": [
    "import time\n",
    "t1 = time.process_time() # get the current time\n",
    "\n",
    "x = list(range(0,10000000))\n",
    "y = list(range(1,5))\n",
    "x.extend(y)\n",
    "\n",
    "elapsed = time.process_time() - t1\n",
    "print(' the process took {0:.3f} seconds'.format(elapsed))"
   ]
  },
  {
   "cell_type": "code",
   "execution_count": 23,
   "metadata": {},
   "outputs": [
    {
     "name": "stdout",
     "output_type": "stream",
     "text": [
      " the process took 0.547 seconds\n"
     ]
    }
   ],
   "source": [
    "import bisect\n",
    "\n",
    "import time\n",
    "t1 = time.process_time() # get the current time\n",
    "\n",
    "x = list(range(0,10000000))\n",
    "bisect.insort(x, 1)\n",
    "bisect.insort(x, 2)\n",
    "bisect.insort(x, 3)\n",
    "bisect.insort(x, 4)\n",
    "\n",
    "elapsed = time.process_time() - t1\n",
    "print(' the process took {0:.3f} seconds'.format(elapsed))"
   ]
  },
  {
   "cell_type": "code",
   "execution_count": null,
   "metadata": {},
   "outputs": [],
   "source": []
  }
 ],
 "metadata": {
  "kernelspec": {
   "display_name": "Python 3",
   "language": "python",
   "name": "python3"
  },
  "language_info": {
   "codemirror_mode": {
    "name": "ipython",
    "version": 3
   },
   "file_extension": ".py",
   "mimetype": "text/x-python",
   "name": "python",
   "nbconvert_exporter": "python",
   "pygments_lexer": "ipython3",
   "version": "3.7.0"
  }
 },
 "nbformat": 4,
 "nbformat_minor": 2
}
