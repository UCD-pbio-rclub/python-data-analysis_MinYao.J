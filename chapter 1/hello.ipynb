print("Hello Anaconda")

def add_numbers(a, b):
    """
    Add two numbers together
    Returns
    -------
    the_sum : type of arguments
    """
    return a + b

add_numbers(3, 5)

%debug %paste
%debug add_numbers(3, 5)

%debug
